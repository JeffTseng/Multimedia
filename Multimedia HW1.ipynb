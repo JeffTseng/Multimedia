{
 "cells": [
  {
   "cell_type": "markdown",
   "metadata": {},
   "source": [
    "# Q1. RGB三層企鵝"
   ]
  },
  {
   "cell_type": "code",
   "execution_count": 126,
   "metadata": {
    "collapsed": false
   },
   "outputs": [],
   "source": [
    "#Multimedia\n",
    "from PIL import Image\n",
    "from matplotlib.pyplot import imshow\n",
    "import numpy as np\n",
    "\n",
    "\n",
    "im = Image.open(\"Penguins.jpg\") # 讀入影像\n",
    "pixel = im.load() # 回傳像素\n",
    "width, height = im.size # 得到影像的寬度長度\n",
    "#print width,height\n",
    "\n",
    "# r,g,b = im.split()\n",
    "# r.show() \n",
    "# g.show()\n",
    "# b.show() \n",
    "# print im.format, im.size, im.mode\n",
    "w1=width/3\n",
    "w2=2*width/3\n",
    "# print w1\n",
    "# print w2\n",
    "\n",
    "for x in range(0, w1):\n",
    "    for y in range(height):\n",
    "        a=list(pixel[x,y])\n",
    "        a[0]=3*a[0]\n",
    "        pixel[x,y]=tuple(a)\n",
    "\n",
    "for x in range (w1, w2):\n",
    "    for y in range(height):\n",
    "        a=list(pixel[x,y])\n",
    "        a[1]=3*a[1]\n",
    "        pixel[x,y]=tuple(a)\n",
    "for x in range(w2,width):\n",
    "    for y in range(height):\n",
    "        a=list(pixel[x,y])\n",
    "        a[2]=3*a[2]\n",
    "        pixel[x,y]=tuple(a)\n",
    "\n",
    "\n",
    "\n",
    "im.save(\"Q1.jpg\")# 儲存影像      "
   ]
  },
  {
   "cell_type": "markdown",
   "metadata": {},
   "source": [
    "# Q2. CMYK四層企鵝"
   ]
  },
  {
   "cell_type": "code",
   "execution_count": 127,
   "metadata": {
    "collapsed": false
   },
   "outputs": [],
   "source": [
    "#Multimedia\n",
    "from PIL import Image\n",
    "from matplotlib.pyplot import imshow\n",
    "import numpy as np\n",
    "im = Image.open(\"Penguins.jpg\").convert(\"CMYK\")\n",
    "pixel = im.load() # 回傳像素\n",
    "width, height = im.size # 得到影像的寬度長度\n",
    "#print width,height\n",
    "w1=width/4\n",
    "w2=2*width/4\n",
    "w3=3*width/4\n",
    "# print w1\n",
    "# print w2\n",
    "for x in range(0, w1):\n",
    "    for y in range(height):\n",
    "        a=list(pixel[x,y])\n",
    "        a[0]=3*a[0]\n",
    "        pixel[x,y]=tuple(a)\n",
    "\n",
    "for x in range (w1, w2):\n",
    "    for y in range(height):\n",
    "        a=list(pixel[x,y])\n",
    "        a[1]=3*a[1]\n",
    "        pixel[x,y]=tuple(a)\n",
    "for x in range(w2,w3):\n",
    "    for y in range(height):\n",
    "        a=list(pixel[x,y])\n",
    "        a[2]=3*a[2]\n",
    "        pixel[x,y]=tuple(a)\n",
    "\n",
    "for x in range(w3,width):\n",
    "    for y in range(height):\n",
    "        a=list(pixel[x,y])\n",
    "        a[3]=3*a[3]\n",
    "        pixel[x,y]=tuple(a)\n",
    "        \n",
    "im.save(\"Q2.jpg\")# 儲存影像      "
   ]
  },
  {
   "cell_type": "markdown",
   "metadata": {},
   "source": [
    "# Q3. 負片(互補色)企鵝"
   ]
  },
  {
   "cell_type": "code",
   "execution_count": 128,
   "metadata": {
    "collapsed": false
   },
   "outputs": [
    {
     "name": "stdout",
     "output_type": "stream",
     "text": [
      "Populating the interactive namespace from numpy and matplotlib\n"
     ]
    }
   ],
   "source": [
    "from PIL import Image\n",
    "from matplotlib.pyplot import imshow\n",
    "import numpy as np\n",
    "%pylab inline\n",
    "\n",
    "im = Image.open(\"Penguins.jpg\") # 讀入影像\n",
    "pixel = im.load() # 回傳像素\n",
    "width, height = im.size # 得到影像的寬度長度\n",
    "for x in xrange(0,width):\n",
    "    for y in xrange(0,height):\n",
    "        R, G, B = pixel[x,y]# 取得該pixel的值RGB\n",
    "        pixel[x,y]=(256-R,256-G,256-B)\n",
    "        \n",
    "im.save(\"Q3.jpg\")# 儲存影像     \n"
   ]
  },
  {
   "cell_type": "markdown",
   "metadata": {},
   "source": [
    "# Q4. 馬賽克企鵝"
   ]
  },
  {
   "cell_type": "code",
   "execution_count": 129,
   "metadata": {
    "collapsed": false
   },
   "outputs": [
    {
     "name": "stdout",
     "output_type": "stream",
     "text": [
      "Populating the interactive namespace from numpy and matplotlib\n"
     ]
    }
   ],
   "source": [
    "from PIL import Image\n",
    "from matplotlib.pyplot import imshow\n",
    "import numpy as np\n",
    "%pylab inline\n",
    "\n",
    "im = Image.open(\"Penguins.jpg\") # 讀入影像\n",
    "pixel = im.load() # 回傳像素\n",
    "width, height = im.size # 得到影像的寬度長度\n",
    "for x in range(0,width,8):\n",
    "    for y in range(0,height,8):\n",
    "        for z in range(x,x+8):\n",
    "            for w in range(y,y+8):\n",
    "                if z%8==0 and w%8==0:\n",
    "                    a=list(pixel[z,w])\n",
    "                else:\n",
    "                    b=list(pixel[z,w])\n",
    "                    b[0]=a[0]\n",
    "                    b[1]=a[1]\n",
    "                    b[2]=a[2]\n",
    "                    pixel[z,w]=tuple(b)\n",
    "im.save(\"Q4.jpg\")"
   ]
  },
  {
   "cell_type": "markdown",
   "metadata": {},
   "source": [
    "# Q5. 灰階企鵝 "
   ]
  },
  {
   "cell_type": "code",
   "execution_count": 130,
   "metadata": {
    "collapsed": false
   },
   "outputs": [
    {
     "name": "stdout",
     "output_type": "stream",
     "text": [
      "Populating the interactive namespace from numpy and matplotlib\n"
     ]
    }
   ],
   "source": [
    "from PIL import Image\n",
    "from matplotlib.pyplot import imshow\n",
    "import numpy as np\n",
    "%pylab inline\n",
    "\n",
    "im = Image.open(\"Penguins.jpg\") # 讀入影像\n",
    "pixel = im.load() # 回傳像素\n",
    "width, height = im.size # 得到影像的寬度長度\n",
    "for x in xrange(0,width):\n",
    "    for y in xrange(0,height):\n",
    "        R,G,B=pixel[x,y]\n",
    "        a=int(((R+G+B)/3))\n",
    "        R=a\n",
    "        G=a\n",
    "        B=a\n",
    "        pixel[x,y]=(R,G,B)\n",
    "\n",
    "im.save('Q5-1.jpg')# 儲存影像  \n",
    "\n",
    "\n",
    "im = Image.open(\"Penguins.jpg\") # 讀入影像\n",
    "pixel = im.load() # 回傳像素\n",
    "width, height = im.size # 得到影像的寬度長度\n",
    "for x in xrange(0,width):\n",
    "    for y in xrange(0,height):\n",
    "        R,G,B=pixel[x,y]\n",
    "        a=int(float(0.299)*R+float(0.587)*G+float(0.114)*B)\n",
    "        R=a\n",
    "        G=a\n",
    "        B=a\n",
    "        pixel[x,y]=(R,G,B)\n",
    "\n",
    "im.save(\"Q5-2.jpg\")# 儲存影像  \n",
    "\n",
    "\n"
   ]
  },
  {
   "cell_type": "markdown",
   "metadata": {},
   "source": [
    "# Q6. 黑白企鵝 "
   ]
  },
  {
   "cell_type": "code",
   "execution_count": 131,
   "metadata": {
    "collapsed": false
   },
   "outputs": [
    {
     "name": "stdout",
     "output_type": "stream",
     "text": [
      "Populating the interactive namespace from numpy and matplotlib\n"
     ]
    }
   ],
   "source": [
    "from PIL import Image\n",
    "from matplotlib.pyplot import imshow\n",
    "import numpy as np\n",
    "%pylab inline\n",
    "\n",
    "im = Image.open(\"Penguins.jpg\") # 讀入影像\n",
    "pixel = im.load() # 回傳像素\n",
    "width, height = im.size # 得到影像的寬度長度\n",
    "for x in xrange(0,width):\n",
    "    for y in xrange(0,height):\n",
    "        a=list(pixel[x,y])\n",
    "        if ((a[0]+a[1]+a[2])/3 >= 20):\n",
    "            a[0]=255\n",
    "            a[1]=255\n",
    "            a[2]=255\n",
    "        else:\n",
    "            a[0]=0\n",
    "            a[1]=0\n",
    "            a[2]=0\n",
    "        pixel[x,y]=tuple(a)\n",
    "im.save('Q6-3.jpg')# 儲存影像\n",
    "\n",
    "\n",
    "im = Image.open(\"Penguins.jpg\") # 讀入影像\n",
    "pixel = im.load() # 回傳像素\n",
    "width, height = im.size # 得到影像的寬度長度\n",
    "for x in xrange(0,width):\n",
    "    for y in xrange(0,height):\n",
    "        a=list(pixel[x,y])\n",
    "        if ((a[0]+a[1]+a[2])/3 >= 64):\n",
    "            a[0]=255\n",
    "            a[1]=255\n",
    "            a[2]=255\n",
    "        else:\n",
    "            a[0]=0\n",
    "            a[1]=0\n",
    "            a[2]=0\n",
    "        pixel[x,y]=tuple(a)\n",
    "im.save('Q6-2.jpg')# 儲存影像\n",
    "\n",
    "im = Image.open(\"Penguins.jpg\") # 讀入影像\n",
    "pixel = im.load() # 回傳像素\n",
    "width, height = im.size # 得到影像的寬度長度\n",
    "for x in xrange(0,width):\n",
    "    for y in xrange(0,height):\n",
    "        a=list(pixel[x,y])\n",
    "        if ((a[0]+a[1]+a[2])/3 >= 180):\n",
    "            a[0]=255\n",
    "            a[1]=255\n",
    "            a[2]=255\n",
    "        else:\n",
    "            a[0]=0\n",
    "            a[1]=0\n",
    "            a[2]=0\n",
    "        pixel[x,y]=tuple(a)\n",
    "im.save('Q6-1.jpg')# 儲存影像"
   ]
  },
  {
   "cell_type": "code",
   "execution_count": null,
   "metadata": {
    "collapsed": true
   },
   "outputs": [],
   "source": []
  },
  {
   "cell_type": "markdown",
   "metadata": {},
   "source": [
    "# Q7. RGB三色互換企鵝"
   ]
  },
  {
   "cell_type": "code",
   "execution_count": 146,
   "metadata": {
    "collapsed": false
   },
   "outputs": [
    {
     "name": "stdout",
     "output_type": "stream",
     "text": [
      "Populating the interactive namespace from numpy and matplotlib\n"
     ]
    }
   ],
   "source": [
    "from PIL import Image\n",
    "from matplotlib.pyplot import imshow\n",
    "import numpy as np\n",
    "%pylab inline\n",
    "\n",
    "im = Image.open(\"Penguins.jpg\") # 讀入影像\n",
    "pixel = im.load() # 回傳像素\n",
    "width, height = im.size # 得到影像的寬度長度\n",
    "for x in xrange(0,width):\n",
    "    for y in xrange(0,height):\n",
    "        R,G,B=pixel[x,y]\n",
    "        pixel[x,y]=(R,B,G)\n",
    "im.save(\"Q7-1.jpg\")# 儲存影像  \n",
    "\n",
    "\n",
    "\n"
   ]
  },
  {
   "cell_type": "code",
   "execution_count": 147,
   "metadata": {
    "collapsed": true
   },
   "outputs": [],
   "source": [
    "im = Image.open(\"Penguins.jpg\") # 讀入影像\n",
    "pixel = im.load() # 回傳像素\n",
    "for x in xrange(0,width):\n",
    "    for y in xrange(0,height):\n",
    "        R,G,B=pixel[x,y]\n",
    "        pixel[x,y]=(G,R,B)\n",
    "im.save(\"Q7-2.jpg\")# 儲存影像 \n",
    "\n"
   ]
  },
  {
   "cell_type": "code",
   "execution_count": 148,
   "metadata": {
    "collapsed": true
   },
   "outputs": [],
   "source": [
    "im = Image.open(\"Penguins.jpg\") # 讀入影像\n",
    "pixel = im.load() # 回傳像素\n",
    "for x in xrange(0,width):\n",
    "    for y in xrange(0,height):\n",
    "        R,G,B=pixel[x,y]\n",
    "        pixel[x,y]=(G,B,R)\n",
    "im.save(\"Q7-3.jpg\")# 儲存影像 \n",
    "\n"
   ]
  },
  {
   "cell_type": "code",
   "execution_count": 149,
   "metadata": {
    "collapsed": true
   },
   "outputs": [],
   "source": [
    "im = Image.open(\"Penguins.jpg\") # 讀入影像\n",
    "pixel = im.load() # 回傳像素\n",
    "for x in xrange(0,width):\n",
    "    for y in xrange(0,height):\n",
    "        R,G,B=pixel[x,y]\n",
    "        pixel[x,y]=(B,R,G)\n",
    "im.save(\"Q7-4.jpg\")# 儲存影像 \n",
    "\n"
   ]
  },
  {
   "cell_type": "code",
   "execution_count": 150,
   "metadata": {
    "collapsed": true
   },
   "outputs": [],
   "source": [
    "im = Image.open(\"Penguins.jpg\") # 讀入影像\n",
    "pixel = im.load() # 回傳像素\n",
    "for x in xrange(0,width):\n",
    "    for y in xrange(0,height):\n",
    "        R,G,B=pixel[x,y]\n",
    "        pixel[x,y]=(B,G,R)\n",
    "im.save(\"Q7-5.jpg\")# 儲存影像 "
   ]
  },
  {
   "cell_type": "markdown",
   "metadata": {},
   "source": [
    "# Q8. 顏色替換企鵝"
   ]
  },
  {
   "cell_type": "code",
   "execution_count": 133,
   "metadata": {
    "collapsed": false
   },
   "outputs": [],
   "source": [
    "from PIL import Image\n",
    "from matplotlib.pyplot import imshow\n",
    "import numpy as np\n",
    "import math\n",
    "\n",
    "im = Image.open(\"Penguins.jpg\") # 讀入影像\n",
    "pixel = im.load() # 回傳像素\n",
    "width, height = im.size # 得到影像的寬度長度\n",
    "for x in xrange(0,width-1):\n",
    "    for y in xrange(0,height):\n",
    "        a=list(pixel[x,y])\n",
    "        \n",
    "        sum =(a[0]-255)**2+(a[1]-190)**2+(a[2]-25)**2\n",
    "        if math.sqrt(sum) < 100:\n",
    "            a[1]=int(0.6*a[1])\n",
    "            pixel[x,y]=tuple(a)\n",
    "        \n",
    "im.save(\"Q8.jpg\")# 儲存影像 \n",
    "        "
   ]
  },
  {
   "cell_type": "markdown",
   "metadata": {},
   "source": [
    "# Q9. 企鵝線條描繪"
   ]
  },
  {
   "cell_type": "code",
   "execution_count": 134,
   "metadata": {
    "collapsed": false
   },
   "outputs": [],
   "source": [
    "from PIL import Image\n",
    "from matplotlib.pyplot import imshow\n",
    "import numpy as np\n",
    "import math\n",
    "\n",
    "im = Image.open(\"Penguins.jpg\") # 讀入影像\n",
    "pixel = im.load() # 回傳像素\n",
    "\n",
    "width, height = im.size # 得到影像的寬度長度\n",
    "\n",
    "for x in range(1,width):\n",
    "    for y in range(1,height):\n",
    "        if x!=width-1:\n",
    "            a=list(pixel[x,y])\n",
    "            b=list(pixel[x,y-1])\n",
    "            c=list(pixel[x+1,y])\n",
    "            now_a=(a[0]+a[1]+a[2])/3\n",
    "            comp_down=(b[0]+b[1]+b[2])/3\n",
    "            comp_right=(c[0]+c[1]+c[2])/3\n",
    "            if math.fabs(now_a - comp_down)>10:\n",
    "                a[0]=0\n",
    "                a[1]=0\n",
    "                a[2]=0\n",
    "                pixel[x,y]=tuple(a)\n",
    "            elif math.fabs(now_a - comp_down)<=10:\n",
    "                a[0]=255\n",
    "                a[1]=255\n",
    "                a[2]=255\n",
    "                pixel[x,y]=tuple(a)\n",
    "            \n",
    "            if math.fabs(now_a -comp_right)>10:\n",
    "                a[0]=0\n",
    "                a[1]=0\n",
    "                a[2]=0\n",
    "                pixel[x,y]=tuple(a)\n",
    "            elif math.fabs(now_a -comp_right)<=10:\n",
    "                a[0]=255\n",
    "                a[1]=255\n",
    "                a[2]=255\n",
    "                pixel[x,y]=tuple(a)\n",
    "                \n",
    "im.save(\"Q9.jpg\")# 儲存影像 \n",
    "        "
   ]
  },
  {
   "cell_type": "markdown",
   "metadata": {},
   "source": [
    "# Q10. 企鵝中值濾波去雜訊"
   ]
  },
  {
   "cell_type": "code",
   "execution_count": 135,
   "metadata": {
    "collapsed": false
   },
   "outputs": [],
   "source": [
    "from PIL import Image\n",
    "from matplotlib.pyplot import imshow\n",
    "import numpy as np\n",
    "import math\n",
    "\n",
    "def median(lst):\n",
    "    lst = sorted(lst)\n",
    "    if len(lst) < 1:\n",
    "        return None\n",
    "    if len(lst) %2 == 1:\n",
    "        return lst[((len(lst)+1)/2)-1]\n",
    "    else:\n",
    "        return float(sum(lst[(len(lst)/2)-1:(len(lst)/2)+1]))/2.0\n",
    "\n",
    "im = Image.open(\"Penguins_noise.jpg\") # 讀入影像\n",
    "pixel = im.load() # 回傳像素\n",
    "width, height = im.size # 得到影像的寬度長度\n",
    "for x in range(1,width):\n",
    "    for y in range(1,height):\n",
    "        if x!=width-1 and y!=height-1:\n",
    "            a=list(pixel[x,y])\n",
    "            b=list(pixel[x-1,y])\n",
    "            c=list(pixel[x+1,y])\n",
    "            d=list(pixel[x,y+1])\n",
    "            e=list(pixel[x,y-1])\n",
    "            f=list(pixel[x-1,y+1])\n",
    "            g=list(pixel[x+1,y+1])\n",
    "            h=list(pixel[x-1,y-1])\n",
    "            i=list(pixel[x+1,y-1])\n",
    "            list_1=[a[0],b[0],c[0],d[0],e[0],f[0],g[0],h[0],i[0]]\n",
    "            list_2=[a[1],b[1],c[1],d[1],e[1],f[1],g[1],h[1],i[1]]\n",
    "            \n",
    "            list_1.sort()\n",
    "            list_2.sort()\n",
    "            sympol_1 =median(list_1)\n",
    "            sympol_2 =median(list_2)\n",
    "            a[0]=sympol_1\n",
    "            a[1]=sympol_2\n",
    "            pixel[x,y]=tuple(a)\n",
    "im.save(\"Q10.jpg\")# 儲存影像 "
   ]
  },
  {
   "cell_type": "markdown",
   "metadata": {},
   "source": [
    "# Q11. 鏡像企鵝"
   ]
  },
  {
   "cell_type": "code",
   "execution_count": 136,
   "metadata": {
    "collapsed": false,
    "scrolled": true
   },
   "outputs": [
    {
     "name": "stdout",
     "output_type": "stream",
     "text": [
      "Populating the interactive namespace from numpy and matplotlib\n"
     ]
    },
    {
     "name": "stderr",
     "output_type": "stream",
     "text": [
      "WARNING: pylab import has clobbered these variables: ['f', 'median', 'sum', 'e']\n",
      "`%matplotlib` prevents importing * from pylab and numpy\n"
     ]
    }
   ],
   "source": [
    "from PIL import Image\n",
    "from matplotlib.pyplot import imshow\n",
    "import numpy as np\n",
    "%pylab inline\n",
    "\n",
    "\n",
    "\n",
    "im = Image.open(\"Penguins.jpg\") # 讀入影像\n",
    "\n",
    "pixel = im.load() # 回傳像素\n",
    "width, height = im.size # 得到影像的寬度長度\n",
    "#imshow(np.asarray(im))\n",
    "#print width,height\n",
    "\n",
    "# # box is left, upper, right, and lower\n",
    "#box = (0, 0, 1024, 384)\n",
    "#region = im.crop(box)\n",
    "#new_region = region.transpose(Image.ROTATE_180)\n",
    "#imshow(np.asarray(new_region))\n",
    "#width1, height2 = new_region.size\n",
    "#print width1,height2\n",
    "\n",
    "#pixel2 = new_region.load()\n",
    "\n",
    "# transpose_img = im\n",
    "# transpose_img.paste(new_region,(0, 400, 1000, 400))\n",
    "for x in range(1,1024):\n",
    "    for y in range(1,768):\n",
    "        if y<= 384:\n",
    "        \n",
    "            b=list(pixel[x,y])\n",
    "            c=list(pixel[x,768-y])\n",
    "            b[0]=c[0]\n",
    "            b[1]=c[1]\n",
    "            b[2]=c[2]\n",
    "            pixel[x,y]=tuple(b)\n",
    "im.save('Q11-1.jpg')\n",
    "        \n"
   ]
  },
  {
   "cell_type": "code",
   "execution_count": 137,
   "metadata": {
    "collapsed": false
   },
   "outputs": [
    {
     "name": "stdout",
     "output_type": "stream",
     "text": [
      "Populating the interactive namespace from numpy and matplotlib\n"
     ]
    }
   ],
   "source": [
    "from PIL import Image\n",
    "from matplotlib.pyplot import imshow\n",
    "import numpy as np\n",
    "%pylab inline\n",
    "\n",
    "\n",
    "\n",
    "im = Image.open(\"Penguins.jpg\") # 讀入影像\n",
    "\n",
    "pixel = im.load() # 回傳像素\n",
    "width, height = im.size # 得到影像的寬度長度\n",
    "#imshow(np.asarray(im))\n",
    "#print width,height\n",
    "\n",
    "for x in range(1,1024):\n",
    "    for y in range(1,384):\n",
    "        if y<= 384:\n",
    "            b=list(pixel[x,y])\n",
    "            c=list(pixel[x,768-y])\n",
    "            c[0]=b[0]\n",
    "            c[1]=b[1]\n",
    "            c[2]=b[2]\n",
    "            pixel[x,768-y]=tuple(c)\n",
    "im.save('Q11-2.jpg')"
   ]
  },
  {
   "cell_type": "code",
   "execution_count": 138,
   "metadata": {
    "collapsed": false
   },
   "outputs": [
    {
     "name": "stdout",
     "output_type": "stream",
     "text": [
      "Populating the interactive namespace from numpy and matplotlib\n"
     ]
    }
   ],
   "source": [
    "from PIL import Image\n",
    "from matplotlib.pyplot import imshow\n",
    "import numpy as np\n",
    "%pylab inline\n",
    "\n",
    "\n",
    "\n",
    "im = Image.open(\"Penguins.jpg\") # 讀入影像\n",
    "\n",
    "pixel = im.load() # 回傳像素\n",
    "width, height = im.size # 得到影像的寬度長度\n",
    "#imshow(np.asarray(im))\n",
    "#print width,height\n",
    "\n",
    "for x in range(1,1024):\n",
    "    for y in range(1,768):\n",
    "          if x<=512:\n",
    "            b=list(pixel[x,y])\n",
    "            c=list(pixel[1024-x,y])\n",
    "            c[0]=b[0]\n",
    "            c[1]=b[1]\n",
    "            c[2]=b[2]\n",
    "            pixel[1024-x,y]=tuple(c)\n",
    "im.save('Q11-3.jpg')"
   ]
  },
  {
   "cell_type": "code",
   "execution_count": 139,
   "metadata": {
    "collapsed": false
   },
   "outputs": [
    {
     "name": "stdout",
     "output_type": "stream",
     "text": [
      "Populating the interactive namespace from numpy and matplotlib\n"
     ]
    }
   ],
   "source": [
    "from PIL import Image\n",
    "from matplotlib.pyplot import imshow\n",
    "import numpy as np\n",
    "%pylab inline\n",
    "\n",
    "\n",
    "\n",
    "im = Image.open(\"Penguins.jpg\") # 讀入影像\n",
    "\n",
    "pixel = im.load() # 回傳像素\n",
    "width, height = im.size # 得到影像的寬度長度\n",
    "#imshow(np.asarray(im))\n",
    "#print width,height\n",
    "\n",
    "for x in range(1,1024):\n",
    "    for y in range(1,768):\n",
    "        if x<=512:\n",
    "            b=list(pixel[x,y])\n",
    "            c=list(pixel[1024-x,y])\n",
    "            b[0]=c[0]\n",
    "            b[1]=c[1]\n",
    "            b[2]=c[2]\n",
    "            pixel[x,y]=tuple(b)\n",
    "im.save('Q11-4.jpg')"
   ]
  },
  {
   "cell_type": "markdown",
   "metadata": {},
   "source": [
    "# Q12. Elsa換背景"
   ]
  },
  {
   "cell_type": "code",
   "execution_count": 140,
   "metadata": {
    "collapsed": false,
    "scrolled": false
   },
   "outputs": [],
   "source": [
    "from PIL import Image\n",
    "import math\n",
    "im = Image.open(\"Chrysanthemum.jpg\")\n",
    "pm = Image.open(\"Elsa.jpg\")\n",
    "pixel1 = im.load()\n",
    "pixel2 = pm.load()\n",
    "e=list(pixel2[0,0])\n",
    "width, height = pm.size\n",
    "for x in xrange(width):\n",
    "    for y in xrange(height):\n",
    "        a=list(pixel2[x,y])\n",
    "        b=list(pixel1[x,y])\n",
    "        sum=math.sqrt((a[0]-e[0])*(a[0]-e[0])+(a[1]-e[1])*(a[1]-e[1])+(a[2]-e[2])*(a[2]-e[2]))\n",
    "        if(sum<50.0):\n",
    "            pixel2[x,y]=tuple(b)\n",
    "        else:\n",
    "            pixel2[x,y]=tuple(a)\n",
    "pm.save(\"Q12.jpg\")"
   ]
  },
  {
   "cell_type": "code",
   "execution_count": null,
   "metadata": {
    "collapsed": true
   },
   "outputs": [],
   "source": []
  },
  {
   "cell_type": "code",
   "execution_count": null,
   "metadata": {
    "collapsed": true
   },
   "outputs": [],
   "source": []
  }
 ],
 "metadata": {
  "kernelspec": {
   "display_name": "Python 2",
   "language": "python",
   "name": "python2"
  },
  "language_info": {
   "codemirror_mode": {
    "name": "ipython",
    "version": 2
   },
   "file_extension": ".py",
   "mimetype": "text/x-python",
   "name": "python",
   "nbconvert_exporter": "python",
   "pygments_lexer": "ipython2",
   "version": "2.7.11"
  }
 },
 "nbformat": 4,
 "nbformat_minor": 0
}
